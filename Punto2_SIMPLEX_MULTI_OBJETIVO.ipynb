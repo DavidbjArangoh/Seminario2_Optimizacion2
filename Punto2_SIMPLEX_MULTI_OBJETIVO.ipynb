{
 "cells": [
  {
   "cell_type": "code",
   "execution_count": 45,
   "metadata": {},
   "outputs": [],
   "source": [
    "import random as rd\n",
    "import sympy as sp"
   ]
  },
  {
   "cell_type": "markdown",
   "metadata": {},
   "source": [
    "Debemos construir un problema de optimización multiobjetivo.\n",
    "\n",
    "Para ello debemos de considerar 3 funciones distintas, todas lineales, por lo que los coeficientes serán aquellos que definiran las funciones\n",
    "\n",
    "Debido a que es tedioso pensar al respecto iniciaremos con coeficientes aleatorios entre -50 y 50\n",
    "\n",
    "Ahora, tenemos 3 funciones lo que implica que nuestra matriz de coeficientes tendrá tres filas.\n",
    "\n",
    "El número de columnas dependerá de la cantidad de variables, esto sin duda depederá del problema, por lo tanto en busqueda de hacer este código lo más general posible,\n",
    "se elegirá aleatoriamente el número de variables que ingresa al sistema entre 3 y 10 variables.\n",
    "\n",
    "Las restricciones estarán dadas por la condición de igualdad.\n",
    "\n",
    "Los coeficientes de las restricciones serán igualmente dados de forma aleatoria entr -50 y 50\n",
    "\n",
    "El número de restricciones será elegido aleatoriamente entre 3 y 10\n",
    "\n",
    "Los valores del vector independiente serán aleatorios entre 0 y 1000"
   ]
  },
  {
   "cell_type": "code",
   "execution_count": 46,
   "metadata": {},
   "outputs": [],
   "source": [
    "varNum = rd.randrange(3,10)\n",
    "CoefObjetivo = sp.zeros(3,varNum)\n",
    "for i in range(0,3,1):\n",
    "    for j in range(0,varNum,1):\n",
    "        CoefObjetivo[i,j] = rd.randrange(-50,50)\n",
    "restNum = varNum\n",
    "CoefRestricciones = sp.zeros(restNum,varNum)\n",
    "indVector = sp.zeros(restNum,1)\n",
    "for i in range(0,restNum,1):\n",
    "    indVector[i,0] = rd.randrange(0,1000)\n",
    "    for j in range(0,varNum,1):\n",
    "        CoefRestricciones[i,j] = rd.randrange(-50,50)\n",
    "vecSol = sp.zeros(varNum,1)\n",
    "for i in range(0,varNum,1):\n",
    "    x = sp.Symbol('x'+str(i+1))\n",
    "    vecSol[i,0] = x"
   ]
  },
  {
   "cell_type": "markdown",
   "metadata": {},
   "source": [
    "Uso del método de la gran M para determinar una primera solución inicial:\n",
    "\n",
    "Esta adición implica la inclusion de una cantidad de variables básicas s proporcional al numero de restricciones\n",
    "\n",
    "Se elije entonces una cantidad de M grandes proporcional al numero de variables basicas y al numero funciones a minimizar\n",
    "\n",
    "Estas M grandes pueden elejirse todas como números excesivamente grandes que serán posteriormente eliminados a medida de que evolucione el método\n",
    "\n",
    "Agregar estas variables bascias a las restricciones es tener la matriz identidad como submatriz de la matriz de coeficientes de restricciones"
   ]
  },
  {
   "cell_type": "code",
   "execution_count": 47,
   "metadata": {},
   "outputs": [],
   "source": [
    "gM = 100000000*sp.ones(3, restNum)\n",
    "CoefObjetivo = CoefObjetivo.row_join(gM)\n",
    "for i in range(0,restNum,1):\n",
    "    s = sp.ones(1,1)*(sp.Symbol('s'+str(i+1)))\n",
    "    vecSol = vecSol.col_join(s)\n",
    "CoefRestricciones = CoefRestricciones.row_join(sp.eye(restNum))\n"
   ]
  },
  {
   "cell_type": "markdown",
   "metadata": {},
   "source": [
    "Tenemos entonces nuestra primera solción factible\n",
    "\n",
    "E inicialiazamos el problema"
   ]
  },
  {
   "cell_type": "code",
   "execution_count": null,
   "metadata": {},
   "outputs": [],
   "source": [
    "solucionado = False\n",
    "while solucionado == False:\n",
    "    "
   ]
  }
 ],
 "metadata": {
  "interpreter": {
   "hash": "31f2aee4e71d21fbe5cf8b01ff0e069b9275f58929596ceb00d14d90e3e16cd6"
  },
  "kernelspec": {
   "display_name": "Python 3.8.9 64-bit",
   "language": "python",
   "name": "python3"
  },
  "language_info": {
   "codemirror_mode": {
    "name": "ipython",
    "version": 3
   },
   "file_extension": ".py",
   "mimetype": "text/x-python",
   "name": "python",
   "nbconvert_exporter": "python",
   "pygments_lexer": "ipython3",
   "version": "3.8.9"
  },
  "orig_nbformat": 4
 },
 "nbformat": 4,
 "nbformat_minor": 2
}
