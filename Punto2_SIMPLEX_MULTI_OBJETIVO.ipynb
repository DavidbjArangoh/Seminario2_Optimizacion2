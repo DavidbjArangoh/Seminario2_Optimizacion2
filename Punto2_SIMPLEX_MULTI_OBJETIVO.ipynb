{
 "cells": [
  {
   "cell_type": "code",
   "execution_count": 25,
   "metadata": {},
   "outputs": [],
   "source": [
    "import random as rd\n",
    "import sympy as sp"
   ]
  },
  {
   "cell_type": "markdown",
   "metadata": {},
   "source": [
    "Debemos construir un problema de optimización multiobjetivo.\n",
    "\n",
    "Para ello debemos de considerar 3 funciones distintas, todas lineales, por lo que los coeficientes serán aquellos que definiran las funciones\n",
    "\n",
    "Debido a que es tedioso pensar al respecto iniciaremos con coeficientes aleatorios entre -50 y 50\n",
    "\n",
    "Ahora, tenemos 3 funciones lo que implica que nuestra matriz de coeficientes tendrá tres filas.\n",
    "\n",
    "El número de columnas dependerá de la cantidad de variables, esto sin duda depederá del problema, por lo tanto en busqueda de hacer este código lo más general posible,\n",
    "se elegirá aleatoriamente el número de variables que ingresa al sistema entre 3 y 10 variables.\n",
    "\n",
    "Las restricciones estarán dadas por la condición de igualdad.\n",
    "\n",
    "Los coeficientes de las restricciones serán igualmente dados de forma aleatoria entr -50 y 50\n",
    "\n",
    "El número de restricciones será elegido aleatoriamente entre 3 y 10\n",
    "\n",
    "Los valores del vector independiente serán aleatorios entre 0 y 1000"
   ]
  },
  {
   "cell_type": "code",
   "execution_count": 26,
   "metadata": {},
   "outputs": [
    {
     "name": "stdout",
     "output_type": "stream",
     "text": [
      "⎡-18  -22  -30  -43  -24  46  -3⎤\n",
      "⎢                               ⎥\n",
      "⎢-1   -35  23   44   -12  19  41⎥\n",
      "⎢                               ⎥\n",
      "⎣-32   1   31   39   -30  37  19⎦\n",
      "⎡37  30   0   -20  -22  -48  30 ⎤\n",
      "⎢                               ⎥\n",
      "⎢0   1   -33  36    5   -45  -41⎥\n",
      "⎢                               ⎥\n",
      "⎢21  43   7   17    4   -12  -34⎥\n",
      "⎢                               ⎥\n",
      "⎣22  25  -30  -33  -5   -35  12 ⎦\n",
      "⎡577⎤\n",
      "⎢   ⎥\n",
      "⎢514⎥\n",
      "⎢   ⎥\n",
      "⎢445⎥\n",
      "⎢   ⎥\n",
      "⎣491⎦\n"
     ]
    }
   ],
   "source": [
    "varNum = rd.randrange(3,10)\n",
    "CoefObjetivo = sp.zeros(3,varNum)\n",
    "for i in range(0,3,1):\n",
    "    for j in range(0,varNum,1):\n",
    "        CoefObjetivo[i,j] = rd.randrange(-50,50)\n",
    "restNum = rd.randrange(3,10)\n",
    "CoefRestricciones = sp.zeros(restNum,varNum)\n",
    "indVector = sp.zeros(restNum,1)\n",
    "for i in range(0,restNum,1):\n",
    "    indVector[i,0] = rd.randrange(0,1000)\n",
    "    for j in range(0,varNum,1):\n",
    "        CoefRestricciones[i,j] = rd.randrange(-50,50)\n",
    "sp.pprint(CoefObjetivo)\n",
    "sp.pprint(CoefRestricciones)\n",
    "sp.pprint(indVector)    \n"
   ]
  },
  {
   "cell_type": "code",
   "execution_count": null,
   "metadata": {},
   "outputs": [],
   "source": []
  }
 ],
 "metadata": {
  "interpreter": {
   "hash": "31f2aee4e71d21fbe5cf8b01ff0e069b9275f58929596ceb00d14d90e3e16cd6"
  },
  "kernelspec": {
   "display_name": "Python 3.8.9 64-bit",
   "language": "python",
   "name": "python3"
  },
  "language_info": {
   "codemirror_mode": {
    "name": "ipython",
    "version": 3
   },
   "file_extension": ".py",
   "mimetype": "text/x-python",
   "name": "python",
   "nbconvert_exporter": "python",
   "pygments_lexer": "ipython3",
   "version": "3.8.9"
  },
  "orig_nbformat": 4
 },
 "nbformat": 4,
 "nbformat_minor": 2
}
