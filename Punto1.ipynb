{
 "cells": [
  {
   "cell_type": "code",
   "execution_count": 4,
   "metadata": {},
   "outputs": [],
   "source": [
    "import random as rand\n",
    "import pandas as pand "
   ]
  },
  {
   "cell_type": "markdown",
   "metadata": {},
   "source": [
    "Número de alternativas = 4 \n",
    "Alternativas =\n",
    "               Colombia Yappo          a1\n",
    "               PCHogar                 a2\n",
    "               Medmall                 a3\n",
    "               eBay                    a4\n",
    "  \n",
    "Número de criterios = 10\n",
    "Criterios = \n",
    "               Eficiencia              c1\n",
    "               prácticidad             c2\n",
    "               fácilidad de uso        c3\n",
    "               ahorro de tiempo        c4\n",
    "               comunicación            c5\n",
    "               Confianza               c6\n",
    "               Seguridad               c7\n",
    "               Familiar                c8\n",
    "               Experiencia             c9    \n",
    "               Competencia             c10"
   ]
  },
  {
   "cell_type": "code",
   "execution_count": null,
   "metadata": {},
   "outputs": [],
   "source": []
  }
 ],
 "metadata": {
  "interpreter": {
   "hash": "31f2aee4e71d21fbe5cf8b01ff0e069b9275f58929596ceb00d14d90e3e16cd6"
  },
  "kernelspec": {
   "display_name": "Python 3.8.9 64-bit",
   "language": "python",
   "name": "python3"
  },
  "language_info": {
   "codemirror_mode": {
    "name": "ipython",
    "version": 3
   },
   "file_extension": ".py",
   "mimetype": "text/x-python",
   "name": "python",
   "nbconvert_exporter": "python",
   "pygments_lexer": "ipython3",
   "version": "3.8.9"
  },
  "orig_nbformat": 4
 },
 "nbformat": 4,
 "nbformat_minor": 2
}
