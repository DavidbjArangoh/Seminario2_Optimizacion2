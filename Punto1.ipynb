{
 "cells": [
  {
   "cell_type": "code",
   "execution_count": 28,
   "metadata": {},
   "outputs": [],
   "source": [
    "import random as rand\n",
    "import pandas as pand \n",
    "import sympy as sym"
   ]
  },
  {
   "cell_type": "markdown",
   "metadata": {},
   "source": [
    "Número de alternativas = 4 \n",
    "Alternativas =\n",
    "\n",
    "\n",
    "Colombia Yappo          a1\n",
    "\n",
    "PCHogar                 a2\n",
    "\n",
    "Medmall                 a3\n",
    "\n",
    "eBay                    a4\n",
    "  \n",
    "Número de criterios = 10\n",
    "\n",
    "Criterios = \n",
    "\n",
    "\n",
    "Eficiencia              c1\n",
    "\n",
    "prácticidad             c2\n",
    "\n",
    "fácilidad de uso        c3\n",
    "\n",
    "ahorro de tiempo        c4\n",
    "\n",
    "comunicación            c5\n",
    "\n",
    "Confianza               c6\n",
    "\n",
    "Seguridad               c7\n",
    "\n",
    "Familiar                c8\n",
    "\n",
    "Experiencia             c9    \n",
    "\n",
    "Competencia             c10"
   ]
  },
  {
   "cell_type": "code",
   "execution_count": null,
   "metadata": {},
   "outputs": [],
   "source": [
    "crit = ['c1','c2']"
   ]
  },
  {
   "cell_type": "code",
   "execution_count": 29,
   "metadata": {},
   "outputs": [
    {
     "ename": "SyntaxError",
     "evalue": "invalid syntax (779442642.py, line 7)",
     "output_type": "error",
     "traceback": [
      "\u001b[0;36m  Input \u001b[0;32mIn [29]\u001b[0;36m\u001b[0m\n\u001b[0;31m    Dframe = pand.DataFrame(MTopsis, index = ,columns = 'columns')\u001b[0m\n\u001b[0m                                             ^\u001b[0m\n\u001b[0;31mSyntaxError\u001b[0m\u001b[0;31m:\u001b[0m invalid syntax\n"
     ]
    }
   ],
   "source": [
    "MTopsis = sym.zeros(4,10)\n",
    "for i in range(0,10,1):\n",
    "    for j in range(0,4,1):\n",
    "        MTopsis[j,i] = rand.randrange(0,100)\n",
    "\n",
    "MTopsis = MTopsis.tolist()\n",
    "Dframe = pand.DataFrame(MTopsis, index = ,columns = 'columns')\n",
    "display(Dframe)"
   ]
  }
 ],
 "metadata": {
  "interpreter": {
   "hash": "31f2aee4e71d21fbe5cf8b01ff0e069b9275f58929596ceb00d14d90e3e16cd6"
  },
  "kernelspec": {
   "display_name": "Python 3.8.9 64-bit",
   "language": "python",
   "name": "python3"
  },
  "language_info": {
   "codemirror_mode": {
    "name": "ipython",
    "version": 3
   },
   "file_extension": ".py",
   "mimetype": "text/x-python",
   "name": "python",
   "nbconvert_exporter": "python",
   "pygments_lexer": "ipython3",
   "version": "3.8.9"
  },
  "orig_nbformat": 4
 },
 "nbformat": 4,
 "nbformat_minor": 2
}
